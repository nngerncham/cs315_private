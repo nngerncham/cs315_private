{
 "cells": [
  {
   "cell_type": "code",
   "execution_count": 167,
   "metadata": {},
   "outputs": [],
   "source": [
    "from scipy.optimize import linprog\n",
    "from numpy import array2string\n",
    "import numpy as np\n",
    "from IPython.display import display, Math, Markdown"
   ]
  },
  {
   "cell_type": "code",
   "execution_count": 168,
   "metadata": {},
   "outputs": [],
   "source": [
    "a2s = lambda s: array2string(s, separator=', ', formatter={'float_kind':lambda x: \"%.1f\" % x})"
   ]
  },
  {
   "attachments": {},
   "cell_type": "markdown",
   "metadata": {},
   "source": [
    "# Primal Problem\n",
    "\n",
    "\\begin{equation}\n",
    "    \\begin{aligned}\n",
    "    &\\max\\quad\n",
    "        & 2x_1 + x_2 & \\\\\n",
    "    &s.t.\\quad \n",
    "        & -2x_1 -x_2    &\\leq\\ -1 \\\\\n",
    "        && x_1 - x_2     &\\leq\\ 3 \\\\\n",
    "        && 4x_1 + x_2    &\\leq\\ 17 \\\\\n",
    "        && x_2           &\\leq\\ 5 \\\\\n",
    "        && -x_1 + x_2    &\\leq\\ 4 \\\\\n",
    "        && x_1, x_2 &\\geq 0\n",
    "    \\end{aligned}\n",
    "\\end{equation}\n",
    "\n",
    "## Solving the Primal Problem"
   ]
  },
  {
   "cell_type": "code",
   "execution_count": 169,
   "metadata": {},
   "outputs": [],
   "source": [
    "primal_c = np.array([2, 1])\n",
    "primal_A = np.array([\n",
    "    [-2, -1],\n",
    "    [1, -1],\n",
    "    [4, 1],\n",
    "    [0, 1],\n",
    "    [-1, 1]\n",
    "])\n",
    "primal_b = np.array([-1, 3, 17, 5, 4])\n",
    "primal_sr = np.array([(0, None), (0, None)])"
   ]
  },
  {
   "cell_type": "code",
   "execution_count": 170,
   "metadata": {},
   "outputs": [
    {
     "data": {
      "text/plain": [
       "        message: Optimization terminated successfully. (HiGHS Status 7: Optimal)\n",
       "        success: True\n",
       "         status: 0\n",
       "            fun: -11.0\n",
       "              x: [ 3.000e+00  5.000e+00]\n",
       "            nit: 1\n",
       "          lower:  residual: [ 3.000e+00  5.000e+00]\n",
       "                 marginals: [ 0.000e+00  0.000e+00]\n",
       "          upper:  residual: [       inf        inf]\n",
       "                 marginals: [ 0.000e+00  0.000e+00]\n",
       "          eqlin:  residual: []\n",
       "                 marginals: []\n",
       "        ineqlin:  residual: [ 1.000e+01  5.000e+00  0.000e+00  0.000e+00\n",
       "                              2.000e+00]\n",
       "                 marginals: [-0.000e+00 -0.000e+00 -5.000e-01 -5.000e-01\n",
       "                             -0.000e+00]\n",
       " mip_node_count: 0\n",
       " mip_dual_bound: 0.0\n",
       "        mip_gap: 0.0"
      ]
     },
     "execution_count": 170,
     "metadata": {},
     "output_type": "execute_result"
    }
   ],
   "source": [
    "primal_res = linprog((-1) * primal_c, A_ub=primal_A, b_ub=primal_b, bounds=primal_sr)  # c negated so max -> min\n",
    "primal_res"
   ]
  },
  {
   "cell_type": "code",
   "execution_count": 171,
   "metadata": {},
   "outputs": [
    {
     "data": {
      "text/markdown": [
       "$x^* = [3.0, 5.0], z^* = 11.0$"
      ],
      "text/plain": [
       "<IPython.core.display.Markdown object>"
      ]
     },
     "metadata": {},
     "output_type": "display_data"
    }
   ],
   "source": [
    "display(Markdown(f\"$x^* = {a2s(primal_res.x)}, z^* = {-primal_res.fun}$\"))"
   ]
  },
  {
   "attachments": {},
   "cell_type": "markdown",
   "metadata": {},
   "source": [
    "# Finding the Dual LP\n",
    "\n",
    "\\begin{equation}\n",
    "    \\begin{aligned}\n",
    "    & \\min\\quad& -y_1 +3y_2 +17y_3 +5y_4 +4y_5 & \\\\\n",
    "    & s.t.\\quad \n",
    "        &-2y_1 +y_2 +4y_3 -y_5 &\\geq 2 \\\\\n",
    "        &&-y_1 -y_2 +y_3 +y_4 +y_5 &\\geq 1 \\\\\n",
    "        &&y_1, y_2, y_3, y_4, y_5 &\\geq 0\n",
    "    \\end{aligned}\n",
    "\\end{equation}\n",
    "\n",
    "## Solving the Dual Problem"
   ]
  },
  {
   "cell_type": "code",
   "execution_count": 172,
   "metadata": {},
   "outputs": [],
   "source": [
    "dual_c = primal_b\n",
    "dual_A = (-1) * primal_A.T\n",
    "dual_b = (-1) * primal_c\n",
    "dual_sr = np.array([(0, None), (0, None), (0, None), (0, None), (0, None)])"
   ]
  },
  {
   "cell_type": "code",
   "execution_count": 173,
   "metadata": {},
   "outputs": [
    {
     "data": {
      "text/plain": [
       "        message: Optimization terminated successfully. (HiGHS Status 7: Optimal)\n",
       "        success: True\n",
       "         status: 0\n",
       "            fun: 11.0\n",
       "              x: [ 0.000e+00  0.000e+00  5.000e-01  5.000e-01  0.000e+00]\n",
       "            nit: 4\n",
       "          lower:  residual: [ 0.000e+00  0.000e+00  5.000e-01  5.000e-01\n",
       "                              0.000e+00]\n",
       "                 marginals: [ 1.000e+01  5.000e+00  0.000e+00  0.000e+00\n",
       "                              2.000e+00]\n",
       "          upper:  residual: [       inf        inf        inf        inf\n",
       "                                    inf]\n",
       "                 marginals: [ 0.000e+00  0.000e+00  0.000e+00  0.000e+00\n",
       "                              0.000e+00]\n",
       "          eqlin:  residual: []\n",
       "                 marginals: []\n",
       "        ineqlin:  residual: [ 0.000e+00  0.000e+00]\n",
       "                 marginals: [-3.000e+00 -5.000e+00]\n",
       " mip_node_count: 0\n",
       " mip_dual_bound: 0.0\n",
       "        mip_gap: 0.0"
      ]
     },
     "execution_count": 173,
     "metadata": {},
     "output_type": "execute_result"
    }
   ],
   "source": [
    "dual_res = linprog(dual_c, A_ub=dual_A, b_ub=dual_b)\n",
    "dual_res"
   ]
  },
  {
   "cell_type": "code",
   "execution_count": 174,
   "metadata": {},
   "outputs": [
    {
     "data": {
      "text/markdown": [
       "$y* = [0.0, 0.0, 0.5, 0.5, 0.0], G* = 11.0$"
      ],
      "text/plain": [
       "<IPython.core.display.Markdown object>"
      ]
     },
     "metadata": {},
     "output_type": "display_data"
    }
   ],
   "source": [
    "display(Markdown(f\"$y* = {a2s(dual_res.x)}, G* = {dual_res.fun}$\"))"
   ]
  },
  {
   "attachments": {},
   "cell_type": "markdown",
   "metadata": {},
   "source": [
    "# Comparison of Objective Values\n",
    "\n",
    "As seen above, $z^*$ which is the objective value of the primal problem and $G^*$ which is the objective value of the dual problem are the same as $z^* = G^* = 11.0$ ($z^*$ is negated because the solver only solves minimizing optimization problems)."
   ]
  }
 ],
 "metadata": {
  "kernelspec": {
   "display_name": "base",
   "language": "python",
   "name": "python3"
  },
  "language_info": {
   "codemirror_mode": {
    "name": "ipython",
    "version": 3
   },
   "file_extension": ".py",
   "mimetype": "text/x-python",
   "name": "python",
   "nbconvert_exporter": "python",
   "pygments_lexer": "ipython3",
   "version": "3.9.15"
  },
  "orig_nbformat": 4,
  "vscode": {
   "interpreter": {
    "hash": "10a096c40ceba0caef59089d649ed46b82587135aa7de295f10f3d041669385d"
   }
  }
 },
 "nbformat": 4,
 "nbformat_minor": 2
}
